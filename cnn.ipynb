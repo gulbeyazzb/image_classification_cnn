{
 "cells": [
  {
   "cell_type": "code",
   "execution_count": 2,
   "metadata": {
    "metadata": {}
   },
   "outputs": [],
   "source": [
    "from tensorflow.keras.models import Sequential\n",
    "from tensorflow.keras.layers import Dense, Dropout, Flatten, Conv2D, MaxPooling2D\n",
    "from tensorflow.keras.metrics import Precision, Recall\n",
    "from tensorflow.keras.preprocessing.image import ImageDataGenerator\n",
    "from tensorflow.keras.models import load_model\n",
    "import numpy as nps\n",
    "from tensorflow.keras.preprocessing import image"
   ]
  },
  {
   "cell_type": "code",
   "execution_count": 3,
   "metadata": {
    "metadata": {}
   },
   "outputs": [],
   "source": [
    "model = Sequential()\n",
    "model.add(Conv2D(filters=64, kernel_size=(3, 3), activation=\"relu\", input_shape=(240, 240, 3)))\n",
    "model.add(MaxPooling2D(pool_size=(2, 2)))\n",
    "model.add(Conv2D(filters=128, kernel_size=(3, 3), activation=\"relu\"))\n",
    "model.add(MaxPooling2D(pool_size=(2, 2)))\n",
    "model.add(Conv2D(filters=256, kernel_size=(3, 3), activation=\"relu\"))\n",
    "model.add(MaxPooling2D(pool_size=(2, 2)))\n",
    "\n",
    "model.add(Flatten())\n",
    "model.add(Dense(units=256, activation=\"relu\"))\n",
    "model.add(Dropout(0.5))\n",
    "model.add(Dense(units=128, activation=\"relu\"))\n",
    "model.add(Dropout(0.5))\n",
    "model.add(Dense(units=64, activation=\"relu\"))\n",
    "model.add(Dense(1, activation='sigmoid'))\n"
   ]
  },
  {
   "cell_type": "code",
   "execution_count": 4,
   "metadata": {
    "metadata": {}
   },
   "outputs": [],
   "source": [
    "model.compile(optimizer=\"adam\",loss=\"binary_crossentropy\",metrics=[\"accuracy\", Precision(), Recall()])"
   ]
  },
  {
   "cell_type": "code",
   "execution_count": 5,
   "metadata": {
    "metadata": {}
   },
   "outputs": [
    {
     "name": "stdout",
     "output_type": "stream",
     "text": [
      "Found 3170 images belonging to 2 classes.\n",
      "Found 634 images belonging to 2 classes.\n"
     ]
    }
   ],
   "source": [
    "data_dir = r'C:\\Users\\Hp\\Documents\\GitHub\\image_classification_cnn\\data'\n",
    "\n",
    "train_datagen = ImageDataGenerator(\n",
    "    rescale=1./255, # resim değerlerini 0-1 arasına çekme\n",
    "    shear_range=0.2, # kesme açısı\n",
    "    zoom_range=0.2, # yakınlaştırma\n",
    "    horizontal_flip=True # yatay çevirme\n",
    ")\n",
    "\n",
    "test_datagen = ImageDataGenerator(\n",
    "    rescale=1./255, # resim değerlerini 0-1 arasına çekme\n",
    "    validation_split = 0.2 # doğrulama verisi oranı\n",
    ")\n",
    "\n",
    "train_generator = train_datagen.flow_from_directory(\n",
    "    data_dir, # veri yolu\n",
    "    target_size=(240, 240), # resim boyutu\n",
    "    batch_size = 32, # her seferinde kaç resim alınacağı\n",
    "    subset='training', # eğitim verisi\n",
    "    class_mode='binary' # sınıflandırma türü\n",
    ")\n",
    "\n",
    "validation_generator = test_datagen.flow_from_directory(\n",
    "    data_dir,\n",
    "    target_size=(240, 240),\n",
    "    batch_size=32,\n",
    "    subset='validation', # doğrulama verisi\n",
    "    class_mode='binary'\n",
    ")"
   ]
  },
  {
   "cell_type": "code",
   "execution_count": 6,
   "metadata": {
    "metadata": {}
   },
   "outputs": [
    {
     "name": "stdout",
     "output_type": "stream",
     "text": [
      "Epoch 1/30\n",
      "100/100 [==============================] - 797s 8s/step - loss: 0.6681 - accuracy: 0.6013 - precision: 0.6113 - recall: 0.9477 - val_loss: 0.6249 - val_accuracy: 0.6183 - val_precision: 0.6150 - val_recall: 0.9974\n",
      "Epoch 2/30\n",
      " 63/100 [=================>............] - ETA: 5:32 - loss: 0.6092 - accuracy: 0.6602 - precision: 0.6498 - recall: 0.9610"
     ]
    }
   ],
   "source": [
    "model.fit(train_generator,epochs=30,validation_data=validation_generator)"
   ]
  }
 ],
 "metadata": {
  "kernelspec": {
   "display_name": "derin_ogrenme",
   "language": "python",
   "name": "python3"
  },
  "language_info": {
   "codemirror_mode": {
    "name": "ipython",
    "version": 3
   },
   "file_extension": ".py",
   "mimetype": "text/x-python",
   "name": "python",
   "nbconvert_exporter": "python",
   "pygments_lexer": "ipython3",
   "version": "3.11.4"
  }
 },
 "nbformat": 4,
 "nbformat_minor": 2
}
