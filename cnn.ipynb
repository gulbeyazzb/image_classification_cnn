{
 "cells": [
  {
   "cell_type": "code",
   "execution_count": 1,
   "metadata": {
    "metadata": {}
   },
   "outputs": [],
   "source": [
    "from tensorflow.keras.models import Sequential\n",
    "from tensorflow.keras.layers import Dense, Dropout, Flatten, Conv2D, MaxPooling2D\n",
    "from tensorflow.keras.metrics import Precision, Recall\n",
    "from tensorflow.keras.preprocessing.image import ImageDataGenerator\n",
    "from tensorflow.keras.models import load_model\n",
    "import numpy as nps\n",
    "from tensorflow.keras.preprocessing import image"
   ]
  },
  {
   "cell_type": "code",
   "execution_count": 2,
   "metadata": {
    "metadata": {}
   },
   "outputs": [],
   "source": [
    "model = Sequential()\n",
    "model.add(Conv2D(filters=64, kernel_size=(3, 3), activation=\"relu\", input_shape=(240, 240, 3)))\n",
    "model.add(MaxPooling2D(pool_size=(2, 2)))\n",
    "model.add(Conv2D(filters=128, kernel_size=(3, 3), activation=\"relu\"))\n",
    "model.add(MaxPooling2D(pool_size=(2, 2)))\n",
    "model.add(Conv2D(filters=256, kernel_size=(3, 3), activation=\"relu\"))\n",
    "model.add(MaxPooling2D(pool_size=(2, 2)))\n",
    "\n",
    "model.add(Flatten())\n",
    "model.add(Dense(units=256, activation=\"relu\"))\n",
    "model.add(Dropout(0.5))\n",
    "model.add(Dense(units=128, activation=\"relu\"))\n",
    "model.add(Dropout(0.5))\n",
    "model.add(Dense(units=64, activation=\"relu\"))\n",
    "model.add(Dense(1, activation='sigmoid'))\n"
   ]
  },
  {
   "cell_type": "code",
   "execution_count": 3,
   "metadata": {
    "metadata": {}
   },
   "outputs": [],
   "source": [
    "model.compile(optimizer=\"adam\",loss=\"binary_crossentropy\",metrics=[\"accuracy\", Precision(), Recall()])"
   ]
  },
  {
   "cell_type": "code",
   "execution_count": 4,
   "metadata": {
    "metadata": {}
   },
   "outputs": [
    {
     "name": "stdout",
     "output_type": "stream",
     "text": [
      "Found 3170 images belonging to 2 classes.\n",
      "Found 634 images belonging to 2 classes.\n"
     ]
    }
   ],
   "source": [
    "data_dir = r'C:\\Users\\Hp\\Documents\\GitHub\\image_classification_cnn\\data'\n",
    "\n",
    "train_datagen = ImageDataGenerator(\n",
    "    rescale=1./255, # resim değerlerini 0-1 arasına çekme\n",
    "    shear_range=0.2, # kesme açısı\n",
    "    zoom_range=0.2, # yakınlaştırma\n",
    "    horizontal_flip=True # yatay çevirme\n",
    ")\n",
    "\n",
    "test_datagen = ImageDataGenerator(\n",
    "    rescale=1./255, # resim değerlerini 0-1 arasına çekme\n",
    "    validation_split = 0.2 # doğrulama verisi oranı\n",
    ")\n",
    "\n",
    "train_generator = train_datagen.flow_from_directory(\n",
    "    data_dir, # veri yolu\n",
    "    target_size=(240, 240), # resim boyutu\n",
    "    batch_size = 32, # her seferinde kaç resim alınacağı\n",
    "    subset='training', # eğitim verisi\n",
    "    class_mode='binary' # sınıflandırma türü\n",
    ")\n",
    "\n",
    "validation_generator = test_datagen.flow_from_directory(\n",
    "    data_dir,\n",
    "    target_size=(240, 240),\n",
    "    batch_size=32,\n",
    "    subset='validation', # doğrulama verisi\n",
    "    class_mode='binary'\n",
    ")"
   ]
  },
  {
   "cell_type": "code",
   "execution_count": 5,
   "metadata": {
    "metadata": {}
   },
   "outputs": [
    {
     "name": "stdout",
     "output_type": "stream",
     "text": [
      "Epoch 1/30\n",
      "100/100 [==============================] - 725s 7s/step - loss: 0.6846 - accuracy: 0.6044 - precision: 0.6118 - recall: 0.9580 - val_loss: 0.6347 - val_accuracy: 0.6104 - val_precision: 0.6101 - val_recall: 0.9974\n",
      "Epoch 2/30\n",
      "100/100 [==============================] - 717s 7s/step - loss: 0.6182 - accuracy: 0.6650 - precision: 0.6690 - recall: 0.8902 - val_loss: 0.5203 - val_accuracy: 0.7350 - val_precision: 0.7104 - val_recall: 0.9534\n",
      "Epoch 3/30\n",
      "100/100 [==============================] - 689s 7s/step - loss: 0.4781 - accuracy: 0.7909 - precision: 0.7959 - recall: 0.8829 - val_loss: 0.3952 - val_accuracy: 0.8233 - val_precision: 0.7807 - val_recall: 0.9870\n",
      "Epoch 4/30\n",
      "100/100 [==============================] - 565s 6s/step - loss: 0.3155 - accuracy: 0.8877 - precision: 0.8999 - recall: 0.9176 - val_loss: 0.2630 - val_accuracy: 0.8927 - val_precision: 0.8630 - val_recall: 0.9793\n",
      "Epoch 5/30\n",
      "100/100 [==============================] - 773s 8s/step - loss: 0.2242 - accuracy: 0.9186 - precision: 0.9244 - recall: 0.9435 - val_loss: 0.1447 - val_accuracy: 0.9385 - val_precision: 0.9201 - val_recall: 0.9845\n",
      "Epoch 6/30\n",
      "100/100 [==============================] - 781s 8s/step - loss: 0.1875 - accuracy: 0.9315 - precision: 0.9445 - recall: 0.9430 - val_loss: 0.1275 - val_accuracy: 0.9527 - val_precision: 0.9472 - val_recall: 0.9767\n",
      "Epoch 7/30\n",
      "100/100 [==============================] - 766s 8s/step - loss: 0.1560 - accuracy: 0.9473 - precision: 0.9594 - recall: 0.9539 - val_loss: 0.1343 - val_accuracy: 0.9464 - val_precision: 0.9314 - val_recall: 0.9845\n",
      "Epoch 8/30\n",
      "100/100 [==============================] - 800s 8s/step - loss: 0.1493 - accuracy: 0.9498 - precision: 0.9610 - recall: 0.9565 - val_loss: 0.0799 - val_accuracy: 0.9732 - val_precision: 0.9671 - val_recall: 0.9896\n",
      "Epoch 9/30\n",
      "100/100 [==============================] - 816s 8s/step - loss: 0.1256 - accuracy: 0.9603 - precision: 0.9669 - recall: 0.9679 - val_loss: 0.0575 - val_accuracy: 0.9811 - val_precision: 0.9820 - val_recall: 0.9870\n",
      "Epoch 10/30\n",
      "100/100 [==============================] - 571s 6s/step - loss: 0.1225 - accuracy: 0.9568 - precision: 0.9643 - recall: 0.9648 - val_loss: 0.1510 - val_accuracy: 0.9385 - val_precision: 0.9121 - val_recall: 0.9948\n",
      "Epoch 11/30\n",
      "100/100 [==============================] - 508s 5s/step - loss: 0.1249 - accuracy: 0.9539 - precision: 0.9598 - recall: 0.9648 - val_loss: 0.0868 - val_accuracy: 0.9669 - val_precision: 0.9815 - val_recall: 0.9637\n",
      "Epoch 12/30\n",
      "100/100 [==============================] - 505s 5s/step - loss: 0.1195 - accuracy: 0.9612 - precision: 0.9626 - recall: 0.9741 - val_loss: 0.2274 - val_accuracy: 0.9353 - val_precision: 0.9943 - val_recall: 0.8990\n",
      "Epoch 13/30\n",
      "100/100 [==============================] - 502s 5s/step - loss: 0.1460 - accuracy: 0.9407 - precision: 0.9499 - recall: 0.9528 - val_loss: 0.0363 - val_accuracy: 0.9842 - val_precision: 0.9796 - val_recall: 0.9948\n",
      "Epoch 14/30\n",
      "100/100 [==============================] - 520s 5s/step - loss: 0.0753 - accuracy: 0.9716 - precision: 0.9762 - recall: 0.9772 - val_loss: 0.0355 - val_accuracy: 0.9858 - val_precision: 0.9896 - val_recall: 0.9870\n",
      "Epoch 15/30\n",
      "100/100 [==============================] - 518s 5s/step - loss: 0.1378 - accuracy: 0.9508 - precision: 0.9610 - recall: 0.9580 - val_loss: 0.0361 - val_accuracy: 0.9874 - val_precision: 0.9948 - val_recall: 0.9845\n",
      "Epoch 16/30\n",
      "100/100 [==============================] - 511s 5s/step - loss: 0.0653 - accuracy: 0.9767 - precision: 0.9843 - recall: 0.9772 - val_loss: 0.0250 - val_accuracy: 0.9874 - val_precision: 0.9948 - val_recall: 0.9845\n",
      "Epoch 17/30\n",
      "100/100 [==============================] - 511s 5s/step - loss: 0.0599 - accuracy: 0.9795 - precision: 0.9839 - recall: 0.9824 - val_loss: 0.0219 - val_accuracy: 0.9921 - val_precision: 0.9948 - val_recall: 0.9922\n",
      "Epoch 18/30\n",
      "100/100 [==============================] - 524s 5s/step - loss: 0.0568 - accuracy: 0.9814 - precision: 0.9870 - recall: 0.9824 - val_loss: 0.0163 - val_accuracy: 0.9937 - val_precision: 0.9974 - val_recall: 0.9922\n",
      "Epoch 19/30\n",
      "100/100 [==============================] - 673s 7s/step - loss: 0.0482 - accuracy: 0.9826 - precision: 0.9870 - recall: 0.9845 - val_loss: 0.0101 - val_accuracy: 0.9968 - val_precision: 0.9974 - val_recall: 0.9974\n",
      "Epoch 20/30\n",
      "100/100 [==============================] - 669s 7s/step - loss: 0.0627 - accuracy: 0.9798 - precision: 0.9844 - recall: 0.9824 - val_loss: 0.0256 - val_accuracy: 0.9905 - val_precision: 0.9872 - val_recall: 0.9974\n",
      "Epoch 21/30\n",
      "100/100 [==============================] - 724s 7s/step - loss: 0.0508 - accuracy: 0.9849 - precision: 0.9876 - recall: 0.9876 - val_loss: 0.0142 - val_accuracy: 0.9937 - val_precision: 0.9974 - val_recall: 0.9922\n",
      "Epoch 22/30\n",
      "100/100 [==============================] - 968s 10s/step - loss: 0.0515 - accuracy: 0.9836 - precision: 0.9860 - recall: 0.9870 - val_loss: 0.0236 - val_accuracy: 0.9890 - val_precision: 0.9897 - val_recall: 0.9922\n",
      "Epoch 23/30\n",
      "100/100 [==============================] - 1285s 13s/step - loss: 0.0502 - accuracy: 0.9845 - precision: 0.9850 - recall: 0.9896 - val_loss: 0.0314 - val_accuracy: 0.9858 - val_precision: 1.0000 - val_recall: 0.9767\n",
      "Epoch 24/30\n",
      "100/100 [==============================] - 1063s 11s/step - loss: 0.0486 - accuracy: 0.9823 - precision: 0.9845 - recall: 0.9865 - val_loss: 0.0092 - val_accuracy: 0.9968 - val_precision: 0.9974 - val_recall: 0.9974\n",
      "Epoch 25/30\n",
      "100/100 [==============================] - 1255s 13s/step - loss: 0.0304 - accuracy: 0.9896 - precision: 0.9907 - recall: 0.9922 - val_loss: 0.0059 - val_accuracy: 0.9984 - val_precision: 0.9974 - val_recall: 1.0000\n",
      "Epoch 26/30\n",
      "100/100 [==============================] - 838s 8s/step - loss: 0.0415 - accuracy: 0.9868 - precision: 0.9891 - recall: 0.9891 - val_loss: 0.0095 - val_accuracy: 0.9968 - val_precision: 1.0000 - val_recall: 0.9948\n",
      "Epoch 27/30\n",
      "100/100 [==============================] - 658s 7s/step - loss: 0.0338 - accuracy: 0.9890 - precision: 0.9902 - recall: 0.9917 - val_loss: 0.0051 - val_accuracy: 1.0000 - val_precision: 1.0000 - val_recall: 1.0000\n",
      "Epoch 28/30\n",
      "100/100 [==============================] - 705s 7s/step - loss: 0.0249 - accuracy: 0.9934 - precision: 0.9943 - recall: 0.9948 - val_loss: 0.0043 - val_accuracy: 0.9984 - val_precision: 1.0000 - val_recall: 0.9974\n",
      "Epoch 29/30\n",
      "100/100 [==============================] - 814s 8s/step - loss: 0.0288 - accuracy: 0.9912 - precision: 0.9917 - recall: 0.9938 - val_loss: 0.0143 - val_accuracy: 0.9953 - val_precision: 1.0000 - val_recall: 0.9922\n",
      "Epoch 30/30\n",
      "100/100 [==============================] - 795s 8s/step - loss: 0.0466 - accuracy: 0.9849 - precision: 0.9876 - recall: 0.9876 - val_loss: 0.0113 - val_accuracy: 0.9968 - val_precision: 0.9974 - val_recall: 0.9974\n"
     ]
    },
    {
     "data": {
      "text/plain": [
       "<keras.src.callbacks.History at 0x24c29c43990>"
      ]
     },
     "execution_count": 5,
     "metadata": {},
     "output_type": "execute_result"
    }
   ],
   "source": [
    "model.fit(train_generator,epochs=30,validation_data=validation_generator)"
   ]
  }
 ],
 "metadata": {
  "kernelspec": {
   "display_name": "derin_ogrenme",
   "language": "python",
   "name": "python3"
  },
  "language_info": {
   "codemirror_mode": {
    "name": "ipython",
    "version": 3
   },
   "file_extension": ".py",
   "mimetype": "text/x-python",
   "name": "python",
   "nbconvert_exporter": "python",
   "pygments_lexer": "ipython3",
   "version": "3.11.4"
  }
 },
 "nbformat": 4,
 "nbformat_minor": 2
}
